{
 "cells": [
  {
   "cell_type": "code",
   "execution_count": 132,
   "metadata": {},
   "outputs": [
    {
     "name": "stdout",
     "output_type": "stream",
     "text": [
      "<class 'pandas.core.frame.DataFrame'>\n",
      "RangeIndex: 4580 entries, 0 to 4579\n",
      "Data columns (total 15 columns):\n",
      " #   Column            Non-Null Count  Dtype \n",
      "---  ------            --------------  ----- \n",
      " 0   age               4580 non-null   int64 \n",
      " 1   employment_type   4580 non-null   object\n",
      " 2   weighting_factor  4580 non-null   int64 \n",
      " 3   education         4580 non-null   object\n",
      " 4   schooling         4580 non-null   int64 \n",
      " 5   marital_status    4580 non-null   object\n",
      " 6   employment_area   4580 non-null   object\n",
      " 7   partnership       4580 non-null   object\n",
      " 8   ethnicity         4580 non-null   object\n",
      " 9   gender            4580 non-null   object\n",
      " 10  gains             4580 non-null   int64 \n",
      " 11  losses            4580 non-null   int64 \n",
      " 12  worktime          4580 non-null   int64 \n",
      " 13  country           4580 non-null   object\n",
      " 14  income            4580 non-null   int64 \n",
      "dtypes: int64(7), object(8)\n",
      "memory usage: 536.8+ KB\n"
     ]
    }
   ],
   "source": [
    "import pandas as pd\n",
    "import numpy as np\n",
    "from sklearn.model_selection import cross_validate, GridSearchCV, KFold\n",
    "from sklearn.svm import SVC\n",
    "from sklearn.ensemble import RandomForestClassifier\n",
    "from sklearn.dummy import DummyClassifier\n",
    "\n",
    "\n",
    "cols = ['age', 'employment_type', 'weighting_factor', 'education', 'schooling', 'marital_status', 'employment_area', 'partnership', 'ethnicity', 'gender', 'gains', 'losses', 'worktime', 'country', 'income']\n",
    "\n",
    "df_model = pd.read_csv('einkommen.train.clean', header=0, sep=',')\n",
    "df_model.info()"
   ]
  },
  {
   "cell_type": "markdown",
   "metadata": {},
   "source": [
    "# Transform Data & Training Preperation "
   ]
  },
  {
   "cell_type": "code",
   "execution_count": 138,
   "metadata": {},
   "outputs": [
    {
     "name": "stdout",
     "output_type": "stream",
     "text": [
      "<class 'pandas.core.frame.DataFrame'>\n",
      "RangeIndex: 4580 entries, 0 to 4579\n",
      "Data columns (total 62 columns):\n",
      " #   Column                                Non-Null Count  Dtype\n",
      "---  ------                                --------------  -----\n",
      " 0   age                                   4580 non-null   int64\n",
      " 1   weighting_factor                      4580 non-null   int64\n",
      " 2   schooling                             4580 non-null   int64\n",
      " 3   gender                                4580 non-null   int64\n",
      " 4   gains                                 4580 non-null   int64\n",
      " 5   losses                                4580 non-null   int64\n",
      " 6   worktime                              4580 non-null   int64\n",
      " 7   employment_type_Federal-gov           4580 non-null   bool \n",
      " 8   employment_type_Local-gov             4580 non-null   bool \n",
      " 9   employment_type_Private               4580 non-null   bool \n",
      " 10  employment_type_Self-emp-inc          4580 non-null   bool \n",
      " 11  employment_type_Self-emp-not-inc      4580 non-null   bool \n",
      " 12  employment_type_State-gov             4580 non-null   bool \n",
      " 13  employment_type_Without-pay           4580 non-null   bool \n",
      " 14  education_10th                        4580 non-null   bool \n",
      " 15  education_11th                        4580 non-null   bool \n",
      " 16  education_12th                        4580 non-null   bool \n",
      " 17  education_1st-4th                     4580 non-null   bool \n",
      " 18  education_5th-6th                     4580 non-null   bool \n",
      " 19  education_7th-8th                     4580 non-null   bool \n",
      " 20  education_9th                         4580 non-null   bool \n",
      " 21  education_Assoc-acdm                  4580 non-null   bool \n",
      " 22  education_Assoc-voc                   4580 non-null   bool \n",
      " 23  education_Bachelors                   4580 non-null   bool \n",
      " 24  education_Doctorate                   4580 non-null   bool \n",
      " 25  education_HS-grad                     4580 non-null   bool \n",
      " 26  education_Masters                     4580 non-null   bool \n",
      " 27  education_Preschool                   4580 non-null   bool \n",
      " 28  education_Prof-school                 4580 non-null   bool \n",
      " 29  education_Some-college                4580 non-null   bool \n",
      " 30  marital_status_Divorced               4580 non-null   bool \n",
      " 31  marital_status_Married-AF-spouse      4580 non-null   bool \n",
      " 32  marital_status_Married-civ-spouse     4580 non-null   bool \n",
      " 33  marital_status_Married-spouse-absent  4580 non-null   bool \n",
      " 34  marital_status_Never-married          4580 non-null   bool \n",
      " 35  marital_status_Separated              4580 non-null   bool \n",
      " 36  marital_status_Widowed                4580 non-null   bool \n",
      " 37  employment_area_Adm-clerical          4580 non-null   bool \n",
      " 38  employment_area_Armed-Forces          4580 non-null   bool \n",
      " 39  employment_area_Craft-repair          4580 non-null   bool \n",
      " 40  employment_area_Exec-managerial       4580 non-null   bool \n",
      " 41  employment_area_Farming-fishing       4580 non-null   bool \n",
      " 42  employment_area_Handlers-cleaners     4580 non-null   bool \n",
      " 43  employment_area_Machine-op-inspct     4580 non-null   bool \n",
      " 44  employment_area_Other-service         4580 non-null   bool \n",
      " 45  employment_area_Priv-house-serv       4580 non-null   bool \n",
      " 46  employment_area_Prof-specialty        4580 non-null   bool \n",
      " 47  employment_area_Protective-serv       4580 non-null   bool \n",
      " 48  employment_area_Sales                 4580 non-null   bool \n",
      " 49  employment_area_Tech-support          4580 non-null   bool \n",
      " 50  employment_area_Transport-moving      4580 non-null   bool \n",
      " 51  partnership_Husband                   4580 non-null   bool \n",
      " 52  partnership_Not-in-family             4580 non-null   bool \n",
      " 53  partnership_Other-relative            4580 non-null   bool \n",
      " 54  partnership_Own-child                 4580 non-null   bool \n",
      " 55  partnership_Unmarried                 4580 non-null   bool \n",
      " 56  partnership_Wife                      4580 non-null   bool \n",
      " 57  ethnicity_Amer-Indian-Eskimo          4580 non-null   bool \n",
      " 58  ethnicity_Asian-Pac-Islander          4580 non-null   bool \n",
      " 59  ethnicity_Black                       4580 non-null   bool \n",
      " 60  ethnicity_Other                       4580 non-null   bool \n",
      " 61  ethnicity_White                       4580 non-null   bool \n",
      "dtypes: bool(55), int64(7)\n",
      "memory usage: 496.6 KB\n",
      "<class 'pandas.core.series.Series'>\n",
      "RangeIndex: 4580 entries, 0 to 4579\n",
      "Series name: income\n",
      "Non-Null Count  Dtype\n",
      "--------------  -----\n",
      "4580 non-null   int64\n",
      "dtypes: int64(1)\n",
      "memory usage: 35.9 KB\n"
     ]
    }
   ],
   "source": [
    "cat_col_keep = [\"employment_type\", \"education\", \"marital_status\", \"employment_area\", \"partnership\", \"ethnicity\"]\n",
    "\n",
    "X = df_model.drop(columns=[\"income\", \"country\"])\n",
    "y = df_model[\"income\"]\n",
    "\n",
    "y[\"income\"] = y[\"income\"].apply(lambda x: -1 if x == \"<=50K\" else 1)\n",
    "X[\"gender\"] = X[\"gender\"].apply(lambda x: 1 if x == \"Male\" else 0)\n",
    "X = pd.get_dummies(X, columns=cat_col_keep)\n",
    "\n",
    "X.info()\n",
    "y.info()\n",
    "\n",
    "inner_cv = KFold(n_splits=5, shuffle=True, random_state=42)\n",
    "outer_cv = KFold(n_splits=5, shuffle=True, random_state=42)\n",
    "scores = [\"accuracy\", \"roc_auc\"]"
   ]
  },
  {
   "cell_type": "markdown",
   "metadata": {},
   "source": [
    "# Dummy Classifier"
   ]
  },
  {
   "cell_type": "code",
   "execution_count": 134,
   "metadata": {},
   "outputs": [
    {
     "name": "stdout",
     "output_type": "stream",
     "text": [
      "Dummy score:  0.7471615720524017\n"
     ]
    }
   ],
   "source": [
    "X_dummy = X.copy()\n",
    "y_dummy = y.copy()\n",
    "\n",
    "dummy = DummyClassifier(strategy='most_frequent')\n",
    "dummy.fit(X_dummy, y_dummy)\n",
    "\n",
    "print(\"Dummy score: \", dummy.score(X_dummy, y_dummy))"
   ]
  },
  {
   "cell_type": "markdown",
   "metadata": {},
   "source": [
    "# SVC Training"
   ]
  },
  {
   "cell_type": "code",
   "execution_count": 147,
   "metadata": {},
   "outputs": [
    {
     "name": "stderr",
     "output_type": "stream",
     "text": [
      "[Parallel(n_jobs=-1)]: Using backend LokyBackend with 4 concurrent workers.\n"
     ]
    },
    {
     "name": "stdout",
     "output_type": "stream",
     "text": [
      "[CV] START .....................................................................\n",
      "[CV] START .....................................................................\n",
      "[CV] START .....................................................................\n",
      "[CV] START .....................................................................\n",
      "[CV] END  accuracy: (train=0.853, test=0.821) roc_auc: (train=0.906, test=0.888) total time=103.2min\n",
      "[CV] START .....................................................................\n",
      "[CV] END  accuracy: (train=0.846, test=0.852) roc_auc: (train=0.904, test=0.898) total time=117.2min\n",
      "[CV] END  accuracy: (train=0.843, test=0.835) roc_auc: (train=0.904, test=0.899) total time=118.6min\n",
      "[CV] END  accuracy: (train=0.849, test=0.829) roc_auc: (train=0.904, test=0.895) total time=126.1min\n",
      "[CV] END  accuracy: (train=0.846, test=0.852) roc_auc: (train=0.903, test=0.899) total time=45.1min\n"
     ]
    }
   ],
   "source": [
    "X_svc = X.copy()\n",
    "y_svc = y.copy()\n",
    "X_svc = (X_svc - X_svc.mean()) / X_svc.std()\n",
    "\n",
    "param_grid = {\n",
    "    \"C\": [0.01, 0.1, 1.0, 2.0, 5.0, 10.0, 50.0, 100.0],\n",
    "    \"kernel\": [\"linear\"]\n",
    "}\n",
    "\n",
    "clf_svc = GridSearchCV(\n",
    "    SVC(), \n",
    "    param_grid, \n",
    "    cv=inner_cv, \n",
    "    scoring=scores, \n",
    "    refit=\"roc_auc\")\n",
    "nested_scores_svc = cross_validate(\n",
    "    clf_svc, \n",
    "    X=X_svc, \n",
    "    y=y_svc, \n",
    "    cv=outer_cv, \n",
    "    scoring=scores, \n",
    "    n_jobs=-1, \n",
    "    verbose=10, \n",
    "    return_train_score=True, \n",
    "    return_estimator=True)"
   ]
  },
  {
   "cell_type": "markdown",
   "metadata": {},
   "source": [
    "# Random Forest Training"
   ]
  },
  {
   "cell_type": "code",
   "execution_count": null,
   "metadata": {},
   "outputs": [],
   "source": [
    "X_rf = X.copy()\n",
    "y_rf = y.copy()\n",
    "\n",
    "param_grid = {\n",
    "    \"n_estimators\": [10, 100, 1000],\n",
    "    \"max_depth\": [5, 10, 20, None],\n",
    "    \"max_features\": [\"sqrt\", \"log2\", None]\n",
    "}\n",
    "\n",
    "clf_rf = GridSearchCV(\n",
    "    RandomForestClassifier(), param_grid, cv=inner_cv, scoring=scores, refit=\"roc_auc\")\n",
    "nested_scores_rf = cross_validate(\n",
    "    clf_rf, X=X_rf, y=y_rf, cv=outer_cv, scoring=scores, n_jobs=-1, verbose=10, return_train_score=True, return_estimator=True)"
   ]
  },
  {
   "cell_type": "markdown",
   "metadata": {},
   "source": [
    "# SVC Evaluation"
   ]
  },
  {
   "cell_type": "code",
   "execution_count": 148,
   "metadata": {},
   "outputs": [
    {
     "name": "stdout",
     "output_type": "stream",
     "text": [
      "Mean roc_auc:  0.8957119661306472\n",
      "Mean accuracy:  0.8375545851528384\n",
      "Best params:  {'C': 5.0, 'gamma': 'scale', 'kernel': 'linear'}\n",
      "Best roc_auc:  0.8930409541936417\n",
      "Best params:  {'C': 50.0, 'gamma': 'scale', 'kernel': 'linear'}\n",
      "Best roc_auc:  0.8943720468924046\n",
      "Best params:  {'C': 0.1, 'gamma': 'scale', 'kernel': 'linear'}\n",
      "Best roc_auc:  0.893675127089389\n",
      "Best params:  {'C': 1.0, 'gamma': 'scale', 'kernel': 'linear'}\n",
      "Best roc_auc:  0.898217209499401\n",
      "Best params:  {'C': 100.0, 'gamma': 'scale', 'kernel': 'linear'}\n",
      "Best roc_auc:  0.893617425301563\n"
     ]
    }
   ],
   "source": [
    "results_svc = pd.DataFrame(nested_scores_svc)\n",
    "print(\"Mean roc_auc: \", results_svc[\"test_roc_auc\"].mean())\n",
    "print(\"Mean accuracy: \", results_svc[\"test_accuracy\"].mean())\n",
    "\n",
    "for i in range(5):\n",
    "    print(\"Best params: \", \n",
    "          nested_scores_svc[\"estimator\"][i].best_params_)\n",
    "    print(\"Best roc_auc: \", \n",
    "          nested_scores_svc[\"estimator\"][i].best_score_)"
   ]
  },
  {
   "cell_type": "markdown",
   "metadata": {},
   "source": [
    "# Random Forest Evaluation"
   ]
  },
  {
   "cell_type": "code",
   "execution_count": 152,
   "metadata": {},
   "outputs": [
    {
     "name": "stdout",
     "output_type": "stream",
     "text": [
      "Mean roc_auc:  0.8957119661306472\n",
      "Mean accuracy:  0.8375545851528384\n",
      "Best params:  {'max_depth': 10, 'max_features': 'sqrt', 'n_estimators': 1000}\n",
      "Best roc_auc:  0.9068683022875407\n",
      "Best params:  {'max_depth': 10, 'max_features': 'sqrt', 'n_estimators': 1000}\n",
      "Best roc_auc:  0.9051844479782121\n",
      "Best params:  {'max_depth': 10, 'max_features': 'sqrt', 'n_estimators': 1000}\n",
      "Best roc_auc:  0.9056513966073068\n",
      "Best params:  {'max_depth': 10, 'max_features': 'sqrt', 'n_estimators': 1000}\n",
      "Best roc_auc:  0.9083430425703034\n",
      "Best params:  {'max_depth': 10, 'max_features': 'sqrt', 'n_estimators': 100}\n",
      "Best roc_auc:  0.9046513778541904\n"
     ]
    }
   ],
   "source": [
    "results_rf = pd.DataFrame(nested_scores_svc)\n",
    "print(\"Mean roc_auc: \", results_rf[\"test_roc_auc\"].mean())\n",
    "print(\"Mean accuracy: \", results_rf[\"test_accuracy\"].mean())\n",
    "for i in range(5):\n",
    "    print(\"Best params: \", nested_scores_rf[\"estimator\"][i].best_params_)\n",
    "    print(\"Best roc_auc: \", nested_scores_rf[\"estimator\"][i].best_score_)"
   ]
  },
  {
   "cell_type": "markdown",
   "metadata": {},
   "source": [
    "# Apply Model"
   ]
  },
  {
   "cell_type": "code",
   "execution_count": 157,
   "metadata": {},
   "outputs": [],
   "source": [
    "df_pred = pd.read_csv('einkommen.pred.clean', header=0, sep=',')\n",
    "X_pred = df_pred.drop(columns=[\"income\", \"country\"])\n",
    "\n",
    "X_pred[\"gender\"] = X_pred[\"gender\"].apply(lambda x: 1 if x == \"Male\" else 0)\n",
    "X_pred = pd.get_dummies(X_pred, columns=cat_col_keep)\n",
    "# X_pred.info()\n",
    "\n",
    "final_clf = SVC(C=1.0, kernel=\"linear\")\n",
    "final_clf.fit(X_svc, y_svc)\n",
    "\n",
    "y_pred = final_clf.predict(X_pred)\n",
    "df_pred[\"income\"] = y_pred\n",
    "df_pred[\"income\"] = df_pred[\"income\"].apply(lambda x: \"<=50K\" if x == -1 else \">50K\")\n",
    "df_pred.to_csv('einkommen.pred', sep=',', index=False)"
   ]
  }
 ],
 "metadata": {
  "kernelspec": {
   "display_name": "ida-project",
   "language": "python",
   "name": "python3"
  },
  "language_info": {
   "codemirror_mode": {
    "name": "ipython",
    "version": 3
   },
   "file_extension": ".py",
   "mimetype": "text/x-python",
   "name": "python",
   "nbconvert_exporter": "python",
   "pygments_lexer": "ipython3",
   "version": "3.12.5"
  }
 },
 "nbformat": 4,
 "nbformat_minor": 2
}
